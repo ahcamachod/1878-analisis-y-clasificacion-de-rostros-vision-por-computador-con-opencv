{
  "nbformat": 4,
  "nbformat_minor": 0,
  "metadata": {
    "colab": {
      "name": "opencv.ipynb",
      "provenance": [],
      "authorship_tag": "ABX9TyM4vqMBoa7gIluSKtR/KxuQ",
      "include_colab_link": true
    },
    "kernelspec": {
      "name": "python3",
      "display_name": "Python 3"
    },
    "language_info": {
      "name": "python"
    }
  },
  "cells": [
    {
      "cell_type": "markdown",
      "metadata": {
        "id": "view-in-github",
        "colab_type": "text"
      },
      "source": [
        "<a href=\"https://colab.research.google.com/github/ahcamachod/1878-analisis-y-clasificacion-de-rostros-vision-por-computador-con-opencv/blob/main/opencv.ipynb\" target=\"_parent\"><img src=\"https://colab.research.google.com/assets/colab-badge.svg\" alt=\"Open In Colab\"/></a>"
      ]
    },
    {
      "cell_type": "markdown",
      "source": [
        "# Análisis y Clasificación de Rostros: Visión por Computador con OpenCV\n",
        "\n",
        "En este notebook estaremos desarrollando el código para trabajar con análisis facial utilizando Open Computer Vision.\n",
        "\n",
        "Emplearemos algunas imágenes para realizar los ejercicios, y particularmente, tomaremos como referencia una base de imágenes de Georgia Tech (*http://www.anefian.com/research/gt_db.zip*).\n",
        "\n",
        "La documentación referente a los principales paquetes que estaremos usando se relaciona a continuación:\n",
        "\n",
        "* *https://docs.opencv.org/4.x/*\n",
        "* *http://dlib.net/python/*\n",
        "* *https://pillow.readthedocs.io/en/stable/*"
      ],
      "metadata": {
        "id": "HUHkf7yZaZnU"
      }
    },
    {
      "cell_type": "markdown",
      "source": [
        "## 1. Conociendo el problema"
      ],
      "metadata": {
        "id": "XNjqvwOTakCr"
      }
    },
    {
      "cell_type": "code",
      "execution_count": null,
      "metadata": {
        "id": "JHxMRhtlaRGj"
      },
      "outputs": [],
      "source": [
        ""
      ]
    },
    {
      "cell_type": "code",
      "source": [
        ""
      ],
      "metadata": {
        "id": "qvbVIFIVarTI"
      },
      "execution_count": null,
      "outputs": []
    },
    {
      "cell_type": "code",
      "source": [
        ""
      ],
      "metadata": {
        "id": "M3fcn7m2arfY"
      },
      "execution_count": null,
      "outputs": []
    },
    {
      "cell_type": "markdown",
      "source": [
        "## 2. Segmentación de rostros"
      ],
      "metadata": {
        "id": "hVOr7AI7azkn"
      }
    },
    {
      "cell_type": "code",
      "source": [
        ""
      ],
      "metadata": {
        "id": "ZXuzs0NEagWF"
      },
      "execution_count": null,
      "outputs": []
    },
    {
      "cell_type": "code",
      "source": [
        ""
      ],
      "metadata": {
        "id": "6h_TI-jTa3Z_"
      },
      "execution_count": null,
      "outputs": []
    },
    {
      "cell_type": "code",
      "source": [
        ""
      ],
      "metadata": {
        "id": "R2647cnAa4YC"
      },
      "execution_count": null,
      "outputs": []
    },
    {
      "cell_type": "markdown",
      "source": [
        "## 3. Clasificación de rostros"
      ],
      "metadata": {
        "id": "3g2XAYl3a4-N"
      }
    },
    {
      "cell_type": "code",
      "source": [
        ""
      ],
      "metadata": {
        "id": "X8Ir_gm2a_Z4"
      },
      "execution_count": null,
      "outputs": []
    },
    {
      "cell_type": "code",
      "source": [
        ""
      ],
      "metadata": {
        "id": "qP1aCusTa_7b"
      },
      "execution_count": null,
      "outputs": []
    },
    {
      "cell_type": "code",
      "source": [
        ""
      ],
      "metadata": {
        "id": "gOMV83WqbAEI"
      },
      "execution_count": null,
      "outputs": []
    },
    {
      "cell_type": "markdown",
      "source": [
        "## 4. Algoritmos de clasificación"
      ],
      "metadata": {
        "id": "IBAUI77TbAaQ"
      }
    },
    {
      "cell_type": "code",
      "source": [
        ""
      ],
      "metadata": {
        "id": "N-6S2AiEbGOg"
      },
      "execution_count": null,
      "outputs": []
    },
    {
      "cell_type": "code",
      "source": [
        ""
      ],
      "metadata": {
        "id": "b1VgeT6FbHMO"
      },
      "execution_count": null,
      "outputs": []
    },
    {
      "cell_type": "code",
      "source": [
        ""
      ],
      "metadata": {
        "id": "OEiGM0UPbHPh"
      },
      "execution_count": null,
      "outputs": []
    },
    {
      "cell_type": "markdown",
      "source": [
        "## 5. Marcos faciales"
      ],
      "metadata": {
        "id": "xXQ5vEvLbLKD"
      }
    },
    {
      "cell_type": "code",
      "source": [
        ""
      ],
      "metadata": {
        "id": "NRMnxSh_bVTI"
      },
      "execution_count": null,
      "outputs": []
    },
    {
      "cell_type": "code",
      "source": [
        ""
      ],
      "metadata": {
        "id": "O56-MApmbVbm"
      },
      "execution_count": null,
      "outputs": []
    },
    {
      "cell_type": "code",
      "source": [
        ""
      ],
      "metadata": {
        "id": "9X5GO4eLbVpC"
      },
      "execution_count": null,
      "outputs": []
    },
    {
      "cell_type": "markdown",
      "source": [
        "## 6. Aplicaciones del análisis facial"
      ],
      "metadata": {
        "id": "ydFn8Y9Tbamr"
      }
    },
    {
      "cell_type": "code",
      "source": [
        ""
      ],
      "metadata": {
        "id": "NQo4kVqBbhmh"
      },
      "execution_count": null,
      "outputs": []
    },
    {
      "cell_type": "code",
      "source": [
        ""
      ],
      "metadata": {
        "id": "Bzn3Jwr5biLr"
      },
      "execution_count": null,
      "outputs": []
    },
    {
      "cell_type": "code",
      "source": [
        ""
      ],
      "metadata": {
        "id": "SuwxrHCCbiOo"
      },
      "execution_count": null,
      "outputs": []
    }
  ]
}